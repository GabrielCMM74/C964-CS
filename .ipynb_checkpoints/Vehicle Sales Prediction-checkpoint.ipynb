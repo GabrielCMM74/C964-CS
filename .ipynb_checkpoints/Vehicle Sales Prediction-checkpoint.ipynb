{
 "cells": [
  {
   "cell_type": "markdown",
   "id": "375b8754",
   "metadata": {},
   "source": [
    "#  Aircraft Collector Application:\n",
    "\n",
    "### Create your personal Aircraft Collection of planes you love. \n",
    "\n",
    "- Aircraft App: https://aircraftcollector.herokuapp.com/\n",
    "<br>\n",
    "<p>This application is meant as an hobbyist tool to add Aircrafts, services, and create a mangement system for viewing them. \n",
    "    \n",
    "#### Technologies used:\n",
    "> Python\n",
    ">\n",
    "> Django\n",
    ">\n",
    "> PostgreSQL\n",
    ">\n",
    "> AWS S3\n",
    ">\n",
    "> DTL Templates"
   ]
  },
  {
   "cell_type": "code",
   "execution_count": 2,
   "id": "7ca5dbcd",
   "metadata": {},
   "outputs": [
    {
     "name": "stdout",
     "output_type": "stream",
     "text": [
      "Test\n"
     ]
    }
   ],
   "source": [
    "print('Test')"
   ]
  },
  {
   "cell_type": "code",
   "execution_count": null,
   "id": "4113e3b5",
   "metadata": {},
   "outputs": [],
   "source": []
  }
 ],
 "metadata": {
  "kernelspec": {
   "display_name": "Python 3 (ipykernel)",
   "language": "python",
   "name": "python3"
  },
  "language_info": {
   "codemirror_mode": {
    "name": "ipython",
    "version": 3
   },
   "file_extension": ".py",
   "mimetype": "text/x-python",
   "name": "python",
   "nbconvert_exporter": "python",
   "pygments_lexer": "ipython3",
   "version": "3.9.12"
  }
 },
 "nbformat": 4,
 "nbformat_minor": 5
}
