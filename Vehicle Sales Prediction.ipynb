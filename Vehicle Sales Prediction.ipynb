{
 "cells": [
  {
   "cell_type": "markdown",
   "id": "72ebbd14",
   "metadata": {},
   "source": [
    "#  Aircraft Collector Application:\n",
    "\n",
    "### Create your personal Aircraft Collection of planes you love. \n",
    "\n",
    "- Aircraft App: https://aircraftcollector.herokuapp.com/\n",
    "<br>\n",
    "<p>This application is meant as an hobbyist tool to add Aircrafts, services, and create a mangement system for viewing them. \n",
    "    \n",
    "#### Technologies used:\n",
    "> Python\n",
    ">\n",
    "> Django\n",
    ">\n",
    "> PostgreSQL\n",
    ">\n",
    "> AWS S3\n",
    ">\n",
    "> DTL Templates"
   ]
  },
  {
   "cell_type": "code",
   "execution_count": null,
   "id": "829924dc",
   "metadata": {},
   "outputs": [],
   "source": [
    "\n"
   ]
  },
  {
   "cell_type": "code",
   "execution_count": 1,
   "id": "91bfebd3",
   "metadata": {},
   "outputs": [
    {
     "name": "stdout",
     "output_type": "stream",
     "text": [
      "Accuracy Metrics for SVM\n",
      "Mean Squared Error (MSE): 780017988.88\n",
      "R-squared: 10.68%\n"
     ]
    }
   ],
   "source": [
    "import pandas as pd\n",
    "import matplotlib.pyplot as plt\n",
    "from sklearn.model_selection import train_test_split\n",
    "from sklearn.pipeline import make_pipeline\n",
    "from sklearn.compose import ColumnTransformer\n",
    "from sklearn.preprocessing import OneHotEncoder\n",
    "from sklearn.svm import SVR\n",
    "from sklearn.metrics import mean_squared_error, r2_score\n",
    "\n",
    "# Load data\n",
    "url = \"https://raw.githubusercontent.com/GabrielCMM74/C964-CS/main/datasets/cars-data-sales%20copy.csv\"\n",
    "df = pd.read_csv(url, encoding='utf-16')\n",
    "\n",
    "# Remove rows with missing 'Price'\n",
    "df.dropna(subset=['Price'], inplace=True)\n",
    "\n",
    "# Exclude outliers\n",
    "upper_limit = df['Price'].quantile(0.99)\n",
    "df = df[df['Price'] < upper_limit]\n",
    "\n",
    "# Sampling a subset of the data for quicker training - for demonstration, using 10% of the data\n",
    "df_sample = df.sample(frac=0.1, random_state=42)\n",
    "\n",
    "X = df_sample[['Year', 'Brand']]\n",
    "y = df_sample['Price'].values\n",
    "\n",
    "column_transformer = ColumnTransformer([\n",
    "    (\"encoder\", OneHotEncoder(sparse=True, handle_unknown='ignore'), ['Brand'])\n",
    "], remainder='passthrough')\n",
    "\n",
    "\n",
    "svm_pipeline = make_pipeline(\n",
    "    column_transformer,\n",
    "    SVR(kernel='linear', C=1.0, epsilon=0.2, max_iter=10000)\n",
    ")\n",
    "\n",
    "X_train, X_test, y_train, y_test = train_test_split(X, y, test_size=0.2, random_state=42)\n",
    "\n",
    "svm_pipeline.fit(X_train, y_train)\n",
    "\n",
    "predictions = svm_pipeline.predict(X_test)\n",
    "\n",
    "mse = mean_squared_error(y_test, predictions)\n",
    "r2 = r2_score(y_test, predictions) * 100\n",
    "\n",
    "print(\"Accuracy Metrics for SVM\")\n",
    "print(f\"Mean Squared Error (MSE): {mse:.2f}\")\n",
    "print(f\"R-squared: {r2:.2f}%\")"
   ]
  },
  {
   "cell_type": "code",
   "execution_count": 2,
   "id": "6990c3cf",
   "metadata": {},
   "outputs": [
    {
     "name": "stdout",
     "output_type": "stream",
     "text": [
      "Numerical Data Statistics:\n"
     ]
    },
    {
     "data": {
      "text/html": [
       "<div>\n",
       "<style scoped>\n",
       "    .dataframe tbody tr th:only-of-type {\n",
       "        vertical-align: middle;\n",
       "    }\n",
       "\n",
       "    .dataframe tbody tr th {\n",
       "        vertical-align: top;\n",
       "    }\n",
       "\n",
       "    .dataframe thead th {\n",
       "        text-align: right;\n",
       "    }\n",
       "</style>\n",
       "<table border=\"1\" class=\"dataframe\">\n",
       "  <thead>\n",
       "    <tr style=\"text-align: right;\">\n",
       "      <th></th>\n",
       "      <th>count</th>\n",
       "      <th>mean</th>\n",
       "      <th>std</th>\n",
       "      <th>min</th>\n",
       "      <th>25%</th>\n",
       "      <th>50%</th>\n",
       "      <th>75%</th>\n",
       "      <th>max</th>\n",
       "    </tr>\n",
       "  </thead>\n",
       "  <tbody>\n",
       "    <tr>\n",
       "      <th>Year</th>\n",
       "      <td>69286.0</td>\n",
       "      <td>2021.192290</td>\n",
       "      <td>4.157273</td>\n",
       "      <td>1966.0</td>\n",
       "      <td>2020.0</td>\n",
       "      <td>2023.0</td>\n",
       "      <td>2024.00</td>\n",
       "      <td>2024.0</td>\n",
       "    </tr>\n",
       "    <tr>\n",
       "      <th>Mileage</th>\n",
       "      <td>28350.0</td>\n",
       "      <td>53230.502081</td>\n",
       "      <td>44502.202227</td>\n",
       "      <td>0.0</td>\n",
       "      <td>20183.0</td>\n",
       "      <td>41294.5</td>\n",
       "      <td>75117.25</td>\n",
       "      <td>405187.0</td>\n",
       "    </tr>\n",
       "    <tr>\n",
       "      <th>Price</th>\n",
       "      <td>69286.0</td>\n",
       "      <td>51400.526138</td>\n",
       "      <td>28674.488213</td>\n",
       "      <td>1500.0</td>\n",
       "      <td>32105.0</td>\n",
       "      <td>46500.0</td>\n",
       "      <td>63963.00</td>\n",
       "      <td>204070.0</td>\n",
       "    </tr>\n",
       "  </tbody>\n",
       "</table>\n",
       "</div>"
      ],
      "text/plain": [
       "           count          mean           std     min      25%      50%  \\\n",
       "Year     69286.0   2021.192290      4.157273  1966.0   2020.0   2023.0   \n",
       "Mileage  28350.0  53230.502081  44502.202227     0.0  20183.0  41294.5   \n",
       "Price    69286.0  51400.526138  28674.488213  1500.0  32105.0  46500.0   \n",
       "\n",
       "              75%       max  \n",
       "Year      2024.00    2024.0  \n",
       "Mileage  75117.25  405187.0  \n",
       "Price    63963.00  204070.0  "
      ]
     },
     "metadata": {},
     "output_type": "display_data"
    },
    {
     "name": "stdout",
     "output_type": "stream",
     "text": [
      "\n",
      "Categorical Data Statistics:\n"
     ]
    },
    {
     "data": {
      "text/html": [
       "<div>\n",
       "<style scoped>\n",
       "    .dataframe tbody tr th:only-of-type {\n",
       "        vertical-align: middle;\n",
       "    }\n",
       "\n",
       "    .dataframe tbody tr th {\n",
       "        vertical-align: top;\n",
       "    }\n",
       "\n",
       "    .dataframe thead th {\n",
       "        text-align: right;\n",
       "    }\n",
       "</style>\n",
       "<table border=\"1\" class=\"dataframe\">\n",
       "  <thead>\n",
       "    <tr style=\"text-align: right;\">\n",
       "      <th></th>\n",
       "      <th>count</th>\n",
       "      <th>unique</th>\n",
       "      <th>top</th>\n",
       "      <th>freq</th>\n",
       "    </tr>\n",
       "  </thead>\n",
       "  <tbody>\n",
       "    <tr>\n",
       "      <th>Brand</th>\n",
       "      <td>69286</td>\n",
       "      <td>44</td>\n",
       "      <td>Ford</td>\n",
       "      <td>14021</td>\n",
       "    </tr>\n",
       "    <tr>\n",
       "      <th>Model</th>\n",
       "      <td>69286</td>\n",
       "      <td>419</td>\n",
       "      <td>F-150</td>\n",
       "      <td>3626</td>\n",
       "    </tr>\n",
       "    <tr>\n",
       "      <th>Status</th>\n",
       "      <td>69286</td>\n",
       "      <td>3</td>\n",
       "      <td>New</td>\n",
       "      <td>40935</td>\n",
       "    </tr>\n",
       "    <tr>\n",
       "      <th>Dealer</th>\n",
       "      <td>69070</td>\n",
       "      <td>6417</td>\n",
       "      <td>Muller Subaru Volkswagen</td>\n",
       "      <td>187</td>\n",
       "    </tr>\n",
       "  </tbody>\n",
       "</table>\n",
       "</div>"
      ],
      "text/plain": [
       "        count unique                       top   freq\n",
       "Brand   69286     44                      Ford  14021\n",
       "Model   69286    419                     F-150   3626\n",
       "Status  69286      3                       New  40935\n",
       "Dealer  69070   6417  Muller Subaru Volkswagen    187"
      ]
     },
     "metadata": {},
     "output_type": "display_data"
    },
    {
     "name": "stdout",
     "output_type": "stream",
     "text": [
      "\n",
      "Distribution of 'Price':\n"
     ]
    },
    {
     "data": {
      "image/png": "[encoded data removed]",
      "text/plain": [
       "<Figure size 720x432 with 1 Axes>"
      ]
     },
     "metadata": {
      "needs_background": "light"
     },
     "output_type": "display_data"
    }
   ],
   "source": [
    "import pandas as pd\n",
    "import matplotlib.pyplot as plt\n",
    "from IPython.display import display\n",
    "\n",
    "# Handle missing values for 'Price' by dropping rows with missing 'Price' values\n",
    "df.dropna(subset=['Price'], inplace=True)\n",
    "\n",
    "def enhanced_describe(df):\n",
    "    # Numerical Data Description\n",
    "    numerical_stats = df.describe().transpose()\n",
    "    \n",
    "    # Categorical Data Description\n",
    "    categorical_columns = df.select_dtypes(include=['object']).columns\n",
    "    categorical_stats = pd.DataFrame(index=categorical_columns, columns=['count', 'unique', 'top', 'freq'])\n",
    "    for column in categorical_columns:\n",
    "        categorical_stats.loc[column, 'count'] = df[column].count()\n",
    "        categorical_stats.loc[column, 'unique'] = df[column].nunique()\n",
    "        categorical_stats.loc[column, 'top'] = df[column].mode()[0]\n",
    "        categorical_stats.loc[column, 'freq'] = df[column].value_counts().iloc[0]\n",
    "    \n",
    "    # Combine and Display\n",
    "    print(\"Numerical Data Statistics:\")\n",
    "    display(numerical_stats)\n",
    "    \n",
    "    print(\"\\nCategorical Data Statistics:\")\n",
    "    display(categorical_stats)\n",
    "    \n",
    "    # Visualizing the distribution of 'Price' (or another key numerical column)\n",
    "    print(\"\\nDistribution of 'Price':\")\n",
    "\n",
    "    # Then, create a histogram with adjusted bins and a log scale.\n",
    "    upper_limit = df['Price'].quantile(0.99)\n",
    "\n",
    "    # Filter the DataFrame to exclude values above the upper limit\n",
    "    filtered_prices = df[df['Price'] < upper_limit]['Price']\n",
    "\n",
    "    # Plot the histogram of prices without extreme outliers\n",
    "    plt.figure(figsize=(10, 6))\n",
    "    filtered_prices.plot(kind='hist', bins=100, title='Price Distribution Without Extreme Outliers')\n",
    "    plt.xlabel('Price')\n",
    "    plt.ylabel('Frequency')\n",
    "    plt.grid(axis='y')\n",
    "    plt.show()\n",
    "\n",
    "# Assuming df is your DataFrame\n",
    "enhanced_describe(df)\n"
   ]
  },
  {
   "cell_type": "code",
   "execution_count": 3,
   "id": "f63874bf",
   "metadata": {},
   "outputs": [
    {
     "data": {
      "application/vnd.jupyter.widget-view+json": {
       "model_id": "d0ae56b0f0aa4c90913103f0a401b7db",
       "version_major": 2,
       "version_minor": 0
      },
      "text/plain": [
       "Dropdown(description='Brand:', options=('All Brands', 'Mazda', 'Volkswagen', 'BMW', 'Ford', 'Honda', 'Toyota',…"
      ]
     },
     "metadata": {},
     "output_type": "display_data"
    },
    {
     "data": {
      "application/vnd.jupyter.widget-view+json": {
       "model_id": "1a31ba6d50fe46ebbff4dfb99c39f0c3",
       "version_major": 2,
       "version_minor": 0
      },
      "text/plain": [
       "Dropdown(description='Year:', options=(2024, 2025, 2026, 2027, 2028, 2029, 2030, 2031, 2032, 2033, 2034, 2035,…"
      ]
     },
     "metadata": {},
     "output_type": "display_data"
    },
    {
     "data": {
      "application/vnd.jupyter.widget-view+json": {
       "model_id": "2c38659521aa41e6ae37b15312a9c99d",
       "version_major": 2,
       "version_minor": 0
      },
      "text/plain": [
       "Button(description='Predict', style=ButtonStyle())"
      ]
     },
     "metadata": {},
     "output_type": "display_data"
    },
    {
     "data": {
      "application/vnd.jupyter.widget-view+json": {
       "model_id": "d943c1f4518b4f3a908aa07a578d34c2",
       "version_major": 2,
       "version_minor": 0
      },
      "text/plain": [
       "Output()"
      ]
     },
     "metadata": {},
     "output_type": "display_data"
    }
   ],
   "source": [
    "import ipywidgets as widgets\n",
    "from IPython.display import display, clear_output\n",
    "import matplotlib.pyplot as plt\n",
    "import seaborn as sns\n",
    "from sklearn.linear_model import LinearRegression\n",
    "import numpy as np\n",
    "\n",
    "# Load your dataset\n",
    "# (Make sure to run Block 1 to have 'df' and 'svm_pipeline' available)\n",
    "\n",
    "# Function to filter data based on user selection\n",
    "def filter_data(brand, year):\n",
    "    if brand == 'All Brands':\n",
    "        return df[df['Year'] == year]\n",
    "    else:\n",
    "        return df[(df['Brand'] == brand) & (df['Year'] == year)]\n",
    "\n",
    "# Function for Predicted Price by Brand Bar Chart\n",
    "def plot_predicted_prices(selected_year):\n",
    "    plt.figure(figsize=(12, 6))\n",
    "    \n",
    "    # Preparing the data with the selected year for all brands\n",
    "    unique_brands = df['Brand'].unique()  # Use the original dataframe to ensure all brands are included\n",
    "    prediction_data = pd.DataFrame({'Year': [selected_year] * len(unique_brands), 'Brand': unique_brands})\n",
    "    \n",
    "    try:\n",
    "        # Since the 'svm_pipeline' expects the original dataframe format, we use 'Year' and 'Brand' only\n",
    "        predicted_prices = svm_pipeline.predict(prediction_data)\n",
    "        sns.barplot(x=unique_brands, y=predicted_prices)\n",
    "        plt.title(f'Predicted Average Prices for {selected_year}')\n",
    "        plt.xlabel('Brand')\n",
    "        plt.ylabel('Predicted Price')\n",
    "        plt.xticks(rotation=45)\n",
    "        plt.grid(True)\n",
    "    except Exception as e:\n",
    "        plt.text(0.5, 0.5, f'An error occurred: {str(e)}', ha='center', va='center')\n",
    "        plt.xticks([])\n",
    "        plt.yticks([])\n",
    "    \n",
    "    plt.show()\n",
    "\n",
    "    \n",
    "# Function for Brand-wise Distribution (Violin Plot)\n",
    "def plot_violin(filtered_df):\n",
    "    plt.figure(figsize=(12, 6))\n",
    "    if filtered_df.empty:\n",
    "        plt.text(0.5, 0.5, 'No data available for this selection', ha='center')\n",
    "    else:\n",
    "        sns.violinplot(x='Brand', y='Price', data=filtered_df)\n",
    "    plt.title('Brand-wise Price Distribution')\n",
    "    plt.xlabel('Brand')\n",
    "    plt.ylabel('Price')\n",
    "    plt.xticks(rotation=45)\n",
    "    plt.grid(True)\n",
    "    plt.show()\n",
    "\n",
    "# Placeholder for Cluster Analysis Visualization\n",
    "def plot_cluster(filtered_df):\n",
    "    plt.figure(figsize=(12, 6))\n",
    "    # Implement clustering logic here\n",
    "    # For demonstration, a placeholder text is used\n",
    "    plt.text(0.5, 0.5, 'Cluster visualization not implemented', ha='center')\n",
    "    plt.title('Cluster Analysis')\n",
    "    plt.show()\n",
    "\n",
    "# Function to update visualizations\n",
    "# Function to update visualizations\n",
    "def update_visualizations(selected_brand, selected_year):\n",
    "    filtered_df = filter_data(selected_brand, selected_year)\n",
    "    plot_predicted_prices(selected_year)  # Note that we only pass the selected year now\n",
    "    plot_violin(filtered_df)\n",
    "    plot_cluster(filtered_df)\n",
    "\n",
    "\n",
    "# UI Components\n",
    "brand_dropdown = widgets.Dropdown(options=['All Brands'] + list(df['Brand'].unique()), value='All Brands', description='Brand:')\n",
    "year_dropdown = widgets.Dropdown(options=list(range(2024, 2051)), value=2024, description='Year:')\n",
    "predict_button = widgets.Button(description=\"Predict\")\n",
    "\n",
    "# Output for the plots\n",
    "output = widgets.Output()\n",
    "\n",
    "def on_predict_button_clicked(b):\n",
    "    with output:\n",
    "        clear_output(wait=True)\n",
    "        selected_brand = brand_dropdown.value\n",
    "        selected_year = year_dropdown.value\n",
    "        update_visualizations(selected_brand, selected_year)\n",
    "\n",
    "predict_button.on_click(on_predict_button_clicked)\n",
    "\n",
    "# Display UI components\n",
    "display(brand_dropdown, year_dropdown, predict_button, output)\n",
    "\n",
    "# Run initial visualization\n",
    "on_predict_button_clicked(None)\n"
   ]
  },
  {
   "cell_type": "code",
   "execution_count": 4,
   "id": "de39d7bb",
   "metadata": {},
   "outputs": [
    {
     "data": {
      "application/vnd.jupyter.widget-view+json": {
       "model_id": "131f0a900f044e7bbb6cb4c38cabd472",
       "version_major": 2,
       "version_minor": 0
      },
      "text/plain": [
       "Dropdown(description='Brand:', options=('All Brands', 'Mazda', 'Volkswagen', 'BMW', 'Ford', 'Honda', 'Toyota',…"
      ]
     },
     "metadata": {},
     "output_type": "display_data"
    },
    {
     "data": {
      "application/vnd.jupyter.widget-view+json": {
       "model_id": "3ba9e9d2236d450dae2118888bce101e",
       "version_major": 2,
       "version_minor": 0
      },
      "text/plain": [
       "Dropdown(description='Year:', options=(2024, 2025, 2026, 2027, 2028, 2029, 2030, 2031, 2032, 2033, 2034, 2035,…"
      ]
     },
     "metadata": {},
     "output_type": "display_data"
    },
    {
     "data": {
      "application/vnd.jupyter.widget-view+json": {
       "model_id": "8e36b52d3334449c907e8108b1f8a5f2",
       "version_major": 2,
       "version_minor": 0
      },
      "text/plain": [
       "Button(description='Predict', style=ButtonStyle())"
      ]
     },
     "metadata": {},
     "output_type": "display_data"
    }
   ],
   "source": [
    "import ipywidgets as widgets\n",
    "from IPython.display import display\n",
    "\n",
    "# Dropdown for Brand selection\n",
    "brand_dropdown = widgets.Dropdown(\n",
    "    options=['All Brands'] + list(df['Brand'].unique()),\n",
    "    value='All Brands',\n",
    "    description='Brand:',\n",
    ")\n",
    "\n",
    "# Dropdown for Year selection\n",
    "year_dropdown = widgets.Dropdown(\n",
    "    options=list(range(2024, 2051)),\n",
    "    value=2024,\n",
    "    description='Year:',\n",
    ")\n",
    "\n",
    "predict_button = widgets.Button(description=\"Predict\")\n",
    "\n",
    "# Function to handle button click\n",
    "def on_predict_button_clicked(b):\n",
    "    selected_brand = brand_dropdown.value\n",
    "    selected_year = year_dropdown.value\n",
    "    # Placeholder for prediction logic and visualization rendering\n",
    "    print(f\"Selected Brand: {selected_brand}, Selected Year: {selected_year}\")\n",
    "    # Here you would include your logic for making predictions based on the selection\n",
    "    # and then update the visualizations accordingly.\n",
    "\n",
    "predict_button.on_click(on_predict_button_clicked)\n",
    "\n",
    "# Display UI components\n",
    "display(brand_dropdown, year_dropdown, predict_button)"
   ]
  },
  {
   "cell_type": "code",
   "execution_count": 5,
   "id": "e83dc39e",
   "metadata": {},
   "outputs": [
    {
     "data": {
      "application/vnd.jupyter.widget-view+json": {
       "model_id": "48d8914588c444d5850fcdff8766b8d0",
       "version_major": 2,
       "version_minor": 0
      },
      "text/plain": [
       "Dropdown(description='Brand:', options=('All Brands', 'Mazda', 'Volkswagen', 'BMW', 'Ford', 'Honda', 'Toyota',…"
      ]
     },
     "metadata": {},
     "output_type": "display_data"
    },
    {
     "data": {
      "application/vnd.jupyter.widget-view+json": {
       "model_id": "99195d21cb364abc88e84210b8b8bb0e",
       "version_major": 2,
       "version_minor": 0
      },
      "text/plain": [
       "Dropdown(description='Year:', options=(2024, 2025, 2026, 2027, 2028, 2029, 2030, 2031, 2032, 2033, 2034, 2035,…"
      ]
     },
     "metadata": {},
     "output_type": "display_data"
    },
    {
     "data": {
      "application/vnd.jupyter.widget-view+json": {
       "model_id": "fa94110d4ec3417b86b12cb47ff4d2f1",
       "version_major": 2,
       "version_minor": 0
      },
      "text/plain": [
       "Button(description='Predict', style=ButtonStyle())"
      ]
     },
     "metadata": {},
     "output_type": "display_data"
    },
    {
     "data": {
      "application/vnd.jupyter.widget-view+json": {
       "model_id": "002a7411ff884f15ad94b1235baa1ae8",
       "version_major": 2,
       "version_minor": 0
      },
      "text/plain": [
       "Output()"
      ]
     },
     "metadata": {},
     "output_type": "display_data"
    }
   ],
   "source": [
    "import ipywidgets as widgets\n",
    "from IPython.display import display, clear_output\n",
    "import matplotlib.pyplot as plt\n",
    "import seaborn as sns\n",
    "from sklearn.linear_model import LinearRegression\n",
    "import numpy as np\n",
    "\n",
    "# Load your dataset\n",
    "# (Make sure to run Block 1 to have 'df' and 'svm_pipeline' available)\n",
    "\n",
    "# Function to filter data based on user selection\n",
    "def filter_data(brand, year):\n",
    "    if brand == 'All Brands':\n",
    "        return df[df['Year'] == year]\n",
    "    else:\n",
    "        return df[(df['Brand'] == brand) & (df['Year'] == year)]\n",
    "\n",
    "# Function for Scatter Plot with Regression Line\n",
    "def plot_regression(filtered_df):\n",
    "    if filtered_df.empty:\n",
    "        plt.text(0.5, 0.5, 'No data available for this selection', ha='center')\n",
    "    else:\n",
    "        sns.regplot(x='Year', y='Price', data=filtered_df, scatter_kws={'alpha':0.5}, line_kws={'color':'red'})\n",
    "    plt.title('Price vs. Year Regression')\n",
    "    plt.xlabel('Year')\n",
    "    plt.ylabel('Price')\n",
    "    plt.grid(True)\n",
    "    plt.show()\n",
    "\n",
    "# Function for Brand-wise Distribution (Violin Plot)\n",
    "def plot_violin(filtered_df):\n",
    "    if filtered_df.empty:\n",
    "        plt.text(0.5, 0.5, 'No data available for this selection', ha='center')\n",
    "    else:\n",
    "        sns.violinplot(x='Brand', y='Price', data=filtered_df)\n",
    "    plt.title('Brand-wise Price Distribution')\n",
    "    plt.xlabel('Brand')\n",
    "    plt.ylabel('Price')\n",
    "    plt.xticks(rotation=45)\n",
    "    plt.grid(True)\n",
    "    plt.show()\n",
    "\n",
    "# Placeholder for Cluster Analysis Visualization\n",
    "def plot_cluster(filtered_df):\n",
    "    # Implement clustering logic here\n",
    "    # For demonstration, a placeholder text is used\n",
    "    plt.text(0.5, 0.5, 'Cluster visualization not implemented', ha='center')\n",
    "    plt.title('Cluster Analysis')\n",
    "    plt.show()\n",
    "\n",
    "# Function to update visualizations\n",
    "def update_visualizations(selected_brand, selected_year):\n",
    "    filtered_df = filter_data(selected_brand, selected_year)\n",
    "    plt.figure(figsize=(12, 4))\n",
    "    plt.subplot(1, 3, 1)\n",
    "    plot_regression(filtered_df)\n",
    "    plt.subplot(1, 3, 2)\n",
    "    plot_violin(filtered_df)\n",
    "    plt.subplot(1, 3, 3)\n",
    "    plot_cluster(filtered_df)\n",
    "\n",
    "# UI Components\n",
    "brand_dropdown = widgets.Dropdown(options=['All Brands'] + list(df['Brand'].unique()), value='All Brands', description='Brand:')\n",
    "year_dropdown = widgets.Dropdown(options=list(range(2024, 2051)), value=2024, description='Year:')\n",
    "predict_button = widgets.Button(description=\"Predict\")\n",
    "\n",
    "# Output for the plots\n",
    "output = widgets.Output()\n",
    "\n",
    "def on_predict_button_clicked(b):\n",
    "    with output:\n",
    "        clear_output(wait=True)\n",
    "        selected_brand = brand_dropdown.value\n",
    "        selected_year = year_dropdown.value\n",
    "        update_visualizations(selected_brand, selected_year)\n",
    "\n",
    "predict_button.on_click(on_predict_button_clicked)\n",
    "\n",
    "# Display UI components\n",
    "display(brand_dropdown, year_dropdown, predict_button, output)\n",
    "\n",
    "# Run initial visualization\n",
    "on_predict_button_clicked(None)\n"
   ]
  }
 ],
 "metadata": {
  "kernelspec": {
   "display_name": "Python 3 (ipykernel)",
   "language": "python",
   "name": "python3"
  },
  "language_info": {
   "codemirror_mode": {
    "name": "ipython",
    "version": 3
   },
   "file_extension": ".py",
   "mimetype": "text/x-python",
   "name": "python",
   "nbconvert_exporter": "python",
   "pygments_lexer": "ipython3",
   "version": "3.9.12"
  }
 },
 "nbformat": 4,
 "nbformat_minor": 5
}
