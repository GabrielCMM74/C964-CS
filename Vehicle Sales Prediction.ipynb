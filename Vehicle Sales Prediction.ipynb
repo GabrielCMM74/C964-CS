{
 "cells": [
  {
   "cell_type": "markdown",
   "id": "0640f94c",
   "metadata": {},
   "source": [
    "#  Aircraft Collector Application:\n",
    "\n",
    "### Create your personal Aircraft Collection of planes you love. \n",
    "\n",
    "- Aircraft App: https://aircraftcollector.herokuapp.com/\n",
    "<br>\n",
    "<p>This application is meant as an hobbyist tool to add Aircrafts, services, and create a mangement system for viewing them. \n",
    "    \n",
    "#### Technologies used:\n",
    "> Python\n",
    ">\n",
    "> Django\n",
    ">\n",
    "> PostgreSQL\n",
    ">\n",
    "> AWS S3\n",
    ">\n",
    "> DTL Templates"
   ]
  },
  {
   "cell_type": "code",
   "execution_count": null,
   "id": "cba6f052",
   "metadata": {},
   "outputs": [],
   "source": [
    "\n"
   ]
  },
  {
   "cell_type": "code",
   "execution_count": 7,
   "id": "01bce599",
   "metadata": {},
   "outputs": [
    {
     "ename": "KeyError",
     "evalue": "['Price']",
     "output_type": "error",
     "traceback": [
      "\u001b[0;31m---------------------------------------------------------------------------\u001b[0m",
      "\u001b[0;31mKeyError\u001b[0m                                  Traceback (most recent call last)",
      "Input \u001b[0;32mIn [7]\u001b[0m, in \u001b[0;36m<cell line: 15>\u001b[0;34m()\u001b[0m\n\u001b[1;32m     12\u001b[0m df \u001b[38;5;241m=\u001b[39m pd\u001b[38;5;241m.\u001b[39mread_csv(url, encoding\u001b[38;5;241m=\u001b[39m\u001b[38;5;124m'\u001b[39m\u001b[38;5;124mutf-16\u001b[39m\u001b[38;5;124m'\u001b[39m)\n\u001b[1;32m     14\u001b[0m \u001b[38;5;66;03m# Remove rows with missing 'Price'\u001b[39;00m\n\u001b[0;32m---> 15\u001b[0m \u001b[43mdf\u001b[49m\u001b[38;5;241;43m.\u001b[39;49m\u001b[43mdropna\u001b[49m\u001b[43m(\u001b[49m\u001b[43msubset\u001b[49m\u001b[38;5;241;43m=\u001b[39;49m\u001b[43m[\u001b[49m\u001b[38;5;124;43m'\u001b[39;49m\u001b[38;5;124;43mPrice\u001b[39;49m\u001b[38;5;124;43m'\u001b[39;49m\u001b[43m]\u001b[49m\u001b[43m,\u001b[49m\u001b[43m \u001b[49m\u001b[43minplace\u001b[49m\u001b[38;5;241;43m=\u001b[39;49m\u001b[38;5;28;43;01mTrue\u001b[39;49;00m\u001b[43m)\u001b[49m\n\u001b[1;32m     17\u001b[0m \u001b[38;5;66;03m# Exclude outliers\u001b[39;00m\n\u001b[1;32m     18\u001b[0m upper_limit \u001b[38;5;241m=\u001b[39m df[\u001b[38;5;124m'\u001b[39m\u001b[38;5;124mPrice\u001b[39m\u001b[38;5;124m'\u001b[39m]\u001b[38;5;241m.\u001b[39mquantile(\u001b[38;5;241m0.99\u001b[39m)\n",
      "File \u001b[0;32m~/opt/anaconda3/lib/python3.9/site-packages/pandas/util/_decorators.py:311\u001b[0m, in \u001b[0;36mdeprecate_nonkeyword_arguments.<locals>.decorate.<locals>.wrapper\u001b[0;34m(*args, **kwargs)\u001b[0m\n\u001b[1;32m    305\u001b[0m \u001b[38;5;28;01mif\u001b[39;00m \u001b[38;5;28mlen\u001b[39m(args) \u001b[38;5;241m>\u001b[39m num_allow_args:\n\u001b[1;32m    306\u001b[0m     warnings\u001b[38;5;241m.\u001b[39mwarn(\n\u001b[1;32m    307\u001b[0m         msg\u001b[38;5;241m.\u001b[39mformat(arguments\u001b[38;5;241m=\u001b[39marguments),\n\u001b[1;32m    308\u001b[0m         \u001b[38;5;167;01mFutureWarning\u001b[39;00m,\n\u001b[1;32m    309\u001b[0m         stacklevel\u001b[38;5;241m=\u001b[39mstacklevel,\n\u001b[1;32m    310\u001b[0m     )\n\u001b[0;32m--> 311\u001b[0m \u001b[38;5;28;01mreturn\u001b[39;00m \u001b[43mfunc\u001b[49m\u001b[43m(\u001b[49m\u001b[38;5;241;43m*\u001b[39;49m\u001b[43margs\u001b[49m\u001b[43m,\u001b[49m\u001b[43m \u001b[49m\u001b[38;5;241;43m*\u001b[39;49m\u001b[38;5;241;43m*\u001b[39;49m\u001b[43mkwargs\u001b[49m\u001b[43m)\u001b[49m\n",
      "File \u001b[0;32m~/opt/anaconda3/lib/python3.9/site-packages/pandas/core/frame.py:6002\u001b[0m, in \u001b[0;36mDataFrame.dropna\u001b[0;34m(self, axis, how, thresh, subset, inplace)\u001b[0m\n\u001b[1;32m   6000\u001b[0m     check \u001b[38;5;241m=\u001b[39m indices \u001b[38;5;241m==\u001b[39m \u001b[38;5;241m-\u001b[39m\u001b[38;5;241m1\u001b[39m\n\u001b[1;32m   6001\u001b[0m     \u001b[38;5;28;01mif\u001b[39;00m check\u001b[38;5;241m.\u001b[39many():\n\u001b[0;32m-> 6002\u001b[0m         \u001b[38;5;28;01mraise\u001b[39;00m \u001b[38;5;167;01mKeyError\u001b[39;00m(np\u001b[38;5;241m.\u001b[39marray(subset)[check]\u001b[38;5;241m.\u001b[39mtolist())\n\u001b[1;32m   6003\u001b[0m     agg_obj \u001b[38;5;241m=\u001b[39m \u001b[38;5;28mself\u001b[39m\u001b[38;5;241m.\u001b[39mtake(indices, axis\u001b[38;5;241m=\u001b[39magg_axis)\n\u001b[1;32m   6005\u001b[0m \u001b[38;5;28;01mif\u001b[39;00m thresh \u001b[38;5;129;01mis\u001b[39;00m \u001b[38;5;129;01mnot\u001b[39;00m \u001b[38;5;28;01mNone\u001b[39;00m:\n",
      "\u001b[0;31mKeyError\u001b[0m: ['Price']"
     ]
    }
   ],
   "source": [
    "import pandas as pd\n",
    "import matplotlib.pyplot as plt\n",
    "from sklearn.model_selection import train_test_split\n",
    "from sklearn.pipeline import make_pipeline\n",
    "from sklearn.compose import ColumnTransformer\n",
    "from sklearn.preprocessing import OneHotEncoder\n",
    "from sklearn.svm import SVR\n",
    "from sklearn.metrics import mean_squared_error, r2_score\n",
    "\n",
    "# Load data\n",
    "url = \"https://raw.githubusercontent.com/GabrielCMM74/C964-CS/main/datasets/cars-data-sale.csv\"\n",
    "df = pd.read_csv(url, encoding='utf-16')\n",
    "\n",
    "# Remove rows with missing 'Price'\n",
    "df.dropna(subset=['Price'], inplace=True)\n",
    "\n",
    "# Exclude outliers\n",
    "upper_limit = df['Price'].quantile(0.99)\n",
    "df = df[df['Price'] < upper_limit]\n",
    "\n",
    "# Sampling a subset of the data for quicker training - for demonstration, using 10% of the data\n",
    "df_sample = df.sample(frac=0.1, random_state=42)\n",
    "\n",
    "X = df_sample[['Year', 'Brand']]\n",
    "y = df_sample['Price'].values\n",
    "\n",
    "column_transformer = ColumnTransformer([\n",
    "    (\"encoder\", OneHotEncoder(sparse=True, handle_unknown='ignore'), ['Brand'])\n",
    "], remainder='passthrough')\n",
    "\n",
    "\n",
    "svm_pipeline = make_pipeline(\n",
    "    column_transformer,\n",
    "    SVR(kernel='linear', C=1.0, epsilon=0.2, max_iter=10000)\n",
    ")\n",
    "\n",
    "X_train, X_test, y_train, y_test = train_test_split(X, y, test_size=0.2, random_state=42)\n",
    "\n",
    "svm_pipeline.fit(X_train, y_train)\n",
    "\n",
    "predictions = svm_pipeline.predict(X_test)\n",
    "\n",
    "mse = mean_squared_error(y_test, predictions)\n",
    "r2 = r2_score(y_test, predictions) * 100\n",
    "\n",
    "print(\"Accuracy Metrics for SVM\")\n",
    "print(f\"Mean Squared Error (MSE): {mse:.2f}\")\n",
    "print(f\"R-squared: {r2:.2f}%\")"
   ]
  },
  {
   "cell_type": "code",
   "execution_count": 2,
   "id": "e2a27429",
   "metadata": {},
   "outputs": [
    {
     "name": "stdout",
     "output_type": "stream",
     "text": [
      "Numerical Data Statistics:\n"
     ]
    },
    {
     "data": {
      "text/html": [
       "<div>\n",
       "<style scoped>\n",
       "    .dataframe tbody tr th:only-of-type {\n",
       "        vertical-align: middle;\n",
       "    }\n",
       "\n",
       "    .dataframe tbody tr th {\n",
       "        vertical-align: top;\n",
       "    }\n",
       "\n",
       "    .dataframe thead th {\n",
       "        text-align: right;\n",
       "    }\n",
       "</style>\n",
       "<table border=\"1\" class=\"dataframe\">\n",
       "  <thead>\n",
       "    <tr style=\"text-align: right;\">\n",
       "      <th></th>\n",
       "      <th>count</th>\n",
       "      <th>mean</th>\n",
       "      <th>std</th>\n",
       "      <th>min</th>\n",
       "      <th>25%</th>\n",
       "      <th>50%</th>\n",
       "      <th>75%</th>\n",
       "      <th>max</th>\n",
       "    </tr>\n",
       "  </thead>\n",
       "  <tbody>\n",
       "    <tr>\n",
       "      <th>Year</th>\n",
       "      <td>139546.0</td>\n",
       "      <td>2021.309869</td>\n",
       "      <td>4.033856</td>\n",
       "      <td>1959.0</td>\n",
       "      <td>2021.0</td>\n",
       "      <td>2023.0</td>\n",
       "      <td>2023.00</td>\n",
       "      <td>2024.0</td>\n",
       "    </tr>\n",
       "    <tr>\n",
       "      <th>Mileage</th>\n",
       "      <td>55338.0</td>\n",
       "      <td>53176.831382</td>\n",
       "      <td>43997.188570</td>\n",
       "      <td>0.0</td>\n",
       "      <td>20662.5</td>\n",
       "      <td>41922.0</td>\n",
       "      <td>74036.75</td>\n",
       "      <td>419096.0</td>\n",
       "    </tr>\n",
       "    <tr>\n",
       "      <th>Price</th>\n",
       "      <td>139546.0</td>\n",
       "      <td>50545.612780</td>\n",
       "      <td>25962.958911</td>\n",
       "      <td>1.0</td>\n",
       "      <td>31995.0</td>\n",
       "      <td>46865.0</td>\n",
       "      <td>64545.00</td>\n",
       "      <td>166520.0</td>\n",
       "    </tr>\n",
       "  </tbody>\n",
       "</table>\n",
       "</div>"
      ],
      "text/plain": [
       "            count          mean           std     min      25%      50%  \\\n",
       "Year     139546.0   2021.309869      4.033856  1959.0   2021.0   2023.0   \n",
       "Mileage   55338.0  53176.831382  43997.188570     0.0  20662.5  41922.0   \n",
       "Price    139546.0  50545.612780  25962.958911     1.0  31995.0  46865.0   \n",
       "\n",
       "              75%       max  \n",
       "Year      2023.00    2024.0  \n",
       "Mileage  74036.75  419096.0  \n",
       "Price    64545.00  166520.0  "
      ]
     },
     "metadata": {},
     "output_type": "display_data"
    },
    {
     "name": "stdout",
     "output_type": "stream",
     "text": [
      "\n",
      "Categorical Data Statistics:\n"
     ]
    },
    {
     "data": {
      "text/html": [
       "<div>\n",
       "<style scoped>\n",
       "    .dataframe tbody tr th:only-of-type {\n",
       "        vertical-align: middle;\n",
       "    }\n",
       "\n",
       "    .dataframe tbody tr th {\n",
       "        vertical-align: top;\n",
       "    }\n",
       "\n",
       "    .dataframe thead th {\n",
       "        text-align: right;\n",
       "    }\n",
       "</style>\n",
       "<table border=\"1\" class=\"dataframe\">\n",
       "  <thead>\n",
       "    <tr style=\"text-align: right;\">\n",
       "      <th></th>\n",
       "      <th>count</th>\n",
       "      <th>unique</th>\n",
       "      <th>top</th>\n",
       "      <th>freq</th>\n",
       "    </tr>\n",
       "  </thead>\n",
       "  <tbody>\n",
       "    <tr>\n",
       "      <th>Brand</th>\n",
       "      <td>139546</td>\n",
       "      <td>61</td>\n",
       "      <td>Ford</td>\n",
       "      <td>17038</td>\n",
       "    </tr>\n",
       "    <tr>\n",
       "      <th>Model</th>\n",
       "      <td>139546</td>\n",
       "      <td>622</td>\n",
       "      <td>F-150</td>\n",
       "      <td>4487</td>\n",
       "    </tr>\n",
       "    <tr>\n",
       "      <th>Status</th>\n",
       "      <td>139546</td>\n",
       "      <td>3</td>\n",
       "      <td>New</td>\n",
       "      <td>84206</td>\n",
       "    </tr>\n",
       "    <tr>\n",
       "      <th>Dealer</th>\n",
       "      <td>139232</td>\n",
       "      <td>11330</td>\n",
       "      <td>Muller Subaru Volkswagen</td>\n",
       "      <td>188</td>\n",
       "    </tr>\n",
       "  </tbody>\n",
       "</table>\n",
       "</div>"
      ],
      "text/plain": [
       "         count unique                       top   freq\n",
       "Brand   139546     61                      Ford  17038\n",
       "Model   139546    622                     F-150   4487\n",
       "Status  139546      3                       New  84206\n",
       "Dealer  139232  11330  Muller Subaru Volkswagen    188"
      ]
     },
     "metadata": {},
     "output_type": "display_data"
    },
    {
     "name": "stdout",
     "output_type": "stream",
     "text": [
      "\n",
      "Distribution of 'Price':\n"
     ]
    },
    {
     "data": {
      "image/png": "[encoded data removed]",
      "text/plain": [
       "<Figure size 720x432 with 1 Axes>"
      ]
     },
     "metadata": {
      "needs_background": "light"
     },
     "output_type": "display_data"
    }
   ],
   "source": [
    "import pandas as pd\n",
    "import matplotlib.pyplot as plt\n",
    "from IPython.display import display\n",
    "\n",
    "# Handle missing values for 'Price' by dropping rows with missing 'Price' values\n",
    "df.dropna(subset=['Price'], inplace=True)\n",
    "\n",
    "def enhanced_describe(df):\n",
    "    # Numerical Data Description\n",
    "    numerical_stats = df.describe().transpose()\n",
    "    \n",
    "    # Categorical Data Description\n",
    "    categorical_columns = df.select_dtypes(include=['object']).columns\n",
    "    categorical_stats = pd.DataFrame(index=categorical_columns, columns=['count', 'unique', 'top', 'freq'])\n",
    "    for column in categorical_columns:\n",
    "        categorical_stats.loc[column, 'count'] = df[column].count()\n",
    "        categorical_stats.loc[column, 'unique'] = df[column].nunique()\n",
    "        categorical_stats.loc[column, 'top'] = df[column].mode()[0]\n",
    "        categorical_stats.loc[column, 'freq'] = df[column].value_counts().iloc[0]\n",
    "    \n",
    "    # Combine and Display\n",
    "    print(\"Numerical Data Statistics:\")\n",
    "    display(numerical_stats)\n",
    "    \n",
    "    print(\"\\nCategorical Data Statistics:\")\n",
    "    display(categorical_stats)\n",
    "    \n",
    "    # Visualizing the distribution of 'Price' (or another key numerical column)\n",
    "    print(\"\\nDistribution of 'Price':\")\n",
    "\n",
    "    # Then, create a histogram with adjusted bins and a log scale.\n",
    "    upper_limit = df['Price'].quantile(0.99)\n",
    "\n",
    "    # Filter the DataFrame to exclude values above the upper limit\n",
    "    filtered_prices = df[df['Price'] < upper_limit]['Price']\n",
    "\n",
    "    # Plot the histogram of prices without extreme outliers\n",
    "    plt.figure(figsize=(10, 6))\n",
    "    filtered_prices.plot(kind='hist', bins=100, title='Price Distribution Without Extreme Outliers')\n",
    "    plt.xlabel('Price')\n",
    "    plt.ylabel('Frequency')\n",
    "    plt.grid(axis='y')\n",
    "    plt.show()\n",
    "\n",
    "# Assuming df is your DataFrame\n",
    "enhanced_describe(df)\n"
   ]
  },
  {
   "cell_type": "code",
   "execution_count": 3,
   "id": "0ac67f7e",
   "metadata": {},
   "outputs": [
    {
     "data": {
      "application/vnd.jupyter.widget-view+json": {
       "model_id": "ef12e8c6aeb14cdfacd5ca96830fdd25",
       "version_major": 2,
       "version_minor": 0
      },
      "text/plain": [
       "Dropdown(description='Brand:', options=('All Brands', 'Mazda', 'Kia', 'Chevrolet', 'Ford', 'Acura', 'Volkswage…"
      ]
     },
     "metadata": {},
     "output_type": "display_data"
    },
    {
     "data": {
      "application/vnd.jupyter.widget-view+json": {
       "model_id": "52dacc5f9ec14be088eb9ddcf324a184",
       "version_major": 2,
       "version_minor": 0
      },
      "text/plain": [
       "Dropdown(description='Year:', options=(2024, 2025, 2026, 2027, 2028, 2029, 2030, 2031, 2032, 2033, 2034, 2035,…"
      ]
     },
     "metadata": {},
     "output_type": "display_data"
    },
    {
     "data": {
      "application/vnd.jupyter.widget-view+json": {
       "model_id": "e500ab2b3964441d9b131d1691435e9d",
       "version_major": 2,
       "version_minor": 0
      },
      "text/plain": [
       "Button(description='Predict', style=ButtonStyle())"
      ]
     },
     "metadata": {},
     "output_type": "display_data"
    },
    {
     "data": {
      "application/vnd.jupyter.widget-view+json": {
       "model_id": "ffe8d5358d904f14817884933efa601d",
       "version_major": 2,
       "version_minor": 0
      },
      "text/plain": [
       "Output()"
      ]
     },
     "metadata": {},
     "output_type": "display_data"
    }
   ],
   "source": [
    "import ipywidgets as widgets\n",
    "from IPython.display import display, clear_output\n",
    "import matplotlib.pyplot as plt\n",
    "import seaborn as sns\n",
    "from sklearn.linear_model import LinearRegression\n",
    "import numpy as np\n",
    "\n",
    "# Load your dataset\n",
    "# (Make sure to run Block 1 to have 'df' and 'svm_pipeline' available)\n",
    "\n",
    "# Function to filter data based on user selection\n",
    "def filter_data(brand, year):\n",
    "    if brand == 'All Brands':\n",
    "        return df[df['Year'] == year]\n",
    "    else:\n",
    "        return df[(df['Brand'] == brand) & (df['Year'] == year)]\n",
    "\n",
    "# Function for Predicted Price by Brand Bar Chart\n",
    "def plot_predicted_prices(selected_year):\n",
    "    plt.figure(figsize=(12, 6))\n",
    "    \n",
    "    # Preparing the data with the selected year for all brands\n",
    "    unique_brands = df['Brand'].unique()  # Use the original dataframe to ensure all brands are included\n",
    "    prediction_data = pd.DataFrame({'Year': [selected_year] * len(unique_brands), 'Brand': unique_brands})\n",
    "    \n",
    "    try:\n",
    "        # Since the 'svm_pipeline' expects the original dataframe format, we use 'Year' and 'Brand' only\n",
    "        predicted_prices = svm_pipeline.predict(prediction_data)\n",
    "        sns.barplot(x=unique_brands, y=predicted_prices)\n",
    "        plt.title(f'Predicted Average Prices for {selected_year}')\n",
    "        plt.xlabel('Brand')\n",
    "        plt.ylabel('Predicted Price')\n",
    "        plt.xticks(rotation=45)\n",
    "        plt.grid(True)\n",
    "    except Exception as e:\n",
    "        plt.text(0.5, 0.5, f'An error occurred: {str(e)}', ha='center', va='center')\n",
    "        plt.xticks([])\n",
    "        plt.yticks([])\n",
    "    \n",
    "    plt.show()\n",
    "\n",
    "    \n",
    "# Function for Brand-wise Distribution (Violin Plot)\n",
    "def plot_violin(filtered_df):\n",
    "    plt.figure(figsize=(12, 6))\n",
    "    if filtered_df.empty:\n",
    "        plt.text(0.5, 0.5, 'No data available for this selection', ha='center')\n",
    "    else:\n",
    "        sns.violinplot(x='Brand', y='Price', data=filtered_df)\n",
    "    plt.title('Brand-wise Price Distribution')\n",
    "    plt.xlabel('Brand')\n",
    "    plt.ylabel('Price')\n",
    "    plt.xticks(rotation=45)\n",
    "    plt.grid(True)\n",
    "    plt.show()\n",
    "\n",
    "# Placeholder for Cluster Analysis Visualization\n",
    "def plot_cluster(filtered_df):\n",
    "    plt.figure(figsize=(12, 6))\n",
    "    # Implement clustering logic here\n",
    "    # For demonstration, a placeholder text is used\n",
    "    plt.text(0.5, 0.5, 'Cluster visualization not implemented', ha='center')\n",
    "    plt.title('Cluster Analysis')\n",
    "    plt.show()\n",
    "\n",
    "# Function to update visualizations\n",
    "# Function to update visualizations\n",
    "def update_visualizations(selected_brand, selected_year):\n",
    "    filtered_df = filter_data(selected_brand, selected_year)\n",
    "    plot_predicted_prices(selected_year)  # Note that we only pass the selected year now\n",
    "    plot_violin(filtered_df)\n",
    "    plot_cluster(filtered_df)\n",
    "\n",
    "\n",
    "# UI Components\n",
    "brand_dropdown = widgets.Dropdown(options=['All Brands'] + list(df['Brand'].unique()), value='All Brands', description='Brand:')\n",
    "year_dropdown = widgets.Dropdown(options=list(range(2024, 2051)), value=2024, description='Year:')\n",
    "predict_button = widgets.Button(description=\"Predict\")\n",
    "\n",
    "# Output for the plots\n",
    "output = widgets.Output()\n",
    "\n",
    "def on_predict_button_clicked(b):\n",
    "    with output:\n",
    "        clear_output(wait=True)\n",
    "        selected_brand = brand_dropdown.value\n",
    "        selected_year = year_dropdown.value\n",
    "        update_visualizations(selected_brand, selected_year)\n",
    "\n",
    "predict_button.on_click(on_predict_button_clicked)\n",
    "\n",
    "# Display UI components\n",
    "display(brand_dropdown, year_dropdown, predict_button, output)\n",
    "\n",
    "# Run initial visualization\n",
    "on_predict_button_clicked(None)\n"
   ]
  },
  {
   "cell_type": "code",
   "execution_count": 4,
   "id": "1a5342d2",
   "metadata": {},
   "outputs": [
    {
     "data": {
      "application/vnd.jupyter.widget-view+json": {
       "model_id": "c25415c300fd49be9e99705414866d0b",
       "version_major": 2,
       "version_minor": 0
      },
      "text/plain": [
       "Dropdown(description='Brand:', options=('All Brands', 'Mazda', 'Kia', 'Chevrolet', 'Ford', 'Acura', 'Volkswage…"
      ]
     },
     "metadata": {},
     "output_type": "display_data"
    },
    {
     "data": {
      "application/vnd.jupyter.widget-view+json": {
       "model_id": "f998a994671445038f0d9d5582e51d5a",
       "version_major": 2,
       "version_minor": 0
      },
      "text/plain": [
       "Dropdown(description='Year:', options=(2024, 2025, 2026, 2027, 2028, 2029, 2030, 2031, 2032, 2033, 2034, 2035,…"
      ]
     },
     "metadata": {},
     "output_type": "display_data"
    },
    {
     "data": {
      "application/vnd.jupyter.widget-view+json": {
       "model_id": "421b09a52adf42cc9e0f2f11821e5607",
       "version_major": 2,
       "version_minor": 0
      },
      "text/plain": [
       "Button(description='Predict', style=ButtonStyle())"
      ]
     },
     "metadata": {},
     "output_type": "display_data"
    }
   ],
   "source": [
    "import ipywidgets as widgets\n",
    "from IPython.display import display\n",
    "\n",
    "# Dropdown for Brand selection\n",
    "brand_dropdown = widgets.Dropdown(\n",
    "    options=['All Brands'] + list(df['Brand'].unique()),\n",
    "    value='All Brands',\n",
    "    description='Brand:',\n",
    ")\n",
    "\n",
    "# Dropdown for Year selection\n",
    "year_dropdown = widgets.Dropdown(\n",
    "    options=list(range(2024, 2051)),\n",
    "    value=2024,\n",
    "    description='Year:',\n",
    ")\n",
    "\n",
    "predict_button = widgets.Button(description=\"Predict\")\n",
    "\n",
    "# Function to handle button click\n",
    "def on_predict_button_clicked(b):\n",
    "    selected_brand = brand_dropdown.value\n",
    "    selected_year = year_dropdown.value\n",
    "    # Placeholder for prediction logic and visualization rendering\n",
    "    print(f\"Selected Brand: {selected_brand}, Selected Year: {selected_year}\")\n",
    "    # Here you would include your logic for making predictions based on the selection\n",
    "    # and then update the visualizations accordingly.\n",
    "\n",
    "predict_button.on_click(on_predict_button_clicked)\n",
    "\n",
    "# Display UI components\n",
    "display(brand_dropdown, year_dropdown, predict_button)"
   ]
  },
  {
   "cell_type": "code",
   "execution_count": 6,
   "id": "25e8abe1",
   "metadata": {},
   "outputs": [
    {
     "data": {
      "application/vnd.jupyter.widget-view+json": {
       "model_id": "eb85d270450946668b80454141923ef4",
       "version_major": 2,
       "version_minor": 0
      },
      "text/plain": [
       "Dropdown(description='Brand:', options=('All Brands', 'Mazda', 'Kia', 'Chevrolet', 'Ford', 'Acura', 'Volkswage…"
      ]
     },
     "metadata": {},
     "output_type": "display_data"
    },
    {
     "data": {
      "application/vnd.jupyter.widget-view+json": {
       "model_id": "72110ded862c43208d452d8c5bf55837",
       "version_major": 2,
       "version_minor": 0
      },
      "text/plain": [
       "Dropdown(description='Year:', options=(2024, 2025, 2026, 2027, 2028, 2029, 2030, 2031, 2032, 2033, 2034, 2035,…"
      ]
     },
     "metadata": {},
     "output_type": "display_data"
    },
    {
     "data": {
      "application/vnd.jupyter.widget-view+json": {
       "model_id": "b2fff2541d7a4f2dbfc79d240aa3bfb2",
       "version_major": 2,
       "version_minor": 0
      },
      "text/plain": [
       "Button(description='Predict', style=ButtonStyle())"
      ]
     },
     "metadata": {},
     "output_type": "display_data"
    },
    {
     "data": {
      "application/vnd.jupyter.widget-view+json": {
       "model_id": "172fe4d24bec4d8e8676fbfbc98ef9f9",
       "version_major": 2,
       "version_minor": 0
      },
      "text/plain": [
       "Output()"
      ]
     },
     "metadata": {},
     "output_type": "display_data"
    }
   ],
   "source": [
    "import ipywidgets as widgets\n",
    "from IPython.display import display, clear_output\n",
    "import matplotlib.pyplot as plt\n",
    "import seaborn as sns\n",
    "from sklearn.linear_model import LinearRegression\n",
    "import numpy as np\n",
    "\n",
    "# Load your dataset\n",
    "# (Make sure to run Block 1 to have 'df' and 'svm_pipeline' available)\n",
    "\n",
    "# Function to filter data based on user selection\n",
    "def filter_data(brand, year):\n",
    "    if brand == 'All Brands':\n",
    "        return df[df['Year'] == year]\n",
    "    else:\n",
    "        return df[(df['Brand'] == brand) & (df['Year'] == year)]\n",
    "\n",
    "# Function for Scatter Plot with Regression Line\n",
    "def plot_regression(filtered_df):\n",
    "    if filtered_df.empty:\n",
    "        plt.text(0.5, 0.5, 'No data available for this selection', ha='center')\n",
    "    else:\n",
    "        sns.regplot(x='Year', y='Price', data=filtered_df, scatter_kws={'alpha':0.5}, line_kws={'color':'red'})\n",
    "    plt.title('Price vs. Year Regression')\n",
    "    plt.xlabel('Year')\n",
    "    plt.ylabel('Price')\n",
    "    plt.grid(True)\n",
    "    plt.show()\n",
    "\n",
    "# Function for Brand-wise Distribution (Violin Plot)\n",
    "def plot_violin(filtered_df):\n",
    "    if filtered_df.empty:\n",
    "        plt.text(0.5, 0.5, 'No data available for this selection', ha='center')\n",
    "    else:\n",
    "        sns.violinplot(x='Brand', y='Price', data=filtered_df)\n",
    "    plt.title('Brand-wise Price Distribution')\n",
    "    plt.xlabel('Brand')\n",
    "    plt.ylabel('Price')\n",
    "    plt.xticks(rotation=45)\n",
    "    plt.grid(True)\n",
    "    plt.show()\n",
    "\n",
    "# Placeholder for Cluster Analysis Visualization\n",
    "def plot_cluster(filtered_df):\n",
    "    # Implement clustering logic here\n",
    "    # For demonstration, a placeholder text is used\n",
    "    plt.text(0.5, 0.5, 'Cluster visualization not implemented', ha='center')\n",
    "    plt.title('Cluster Analysis')\n",
    "    plt.show()\n",
    "\n",
    "# Function to update visualizations\n",
    "def update_visualizations(selected_brand, selected_year):\n",
    "    filtered_df = filter_data(selected_brand, selected_year)\n",
    "    plt.figure(figsize=(12, 4))\n",
    "    plt.subplot(1, 3, 1)\n",
    "    plot_regression(filtered_df)\n",
    "    plt.subplot(1, 3, 2)\n",
    "    plot_violin(filtered_df)\n",
    "    plt.subplot(1, 3, 3)\n",
    "    plot_cluster(filtered_df)\n",
    "\n",
    "# UI Components\n",
    "brand_dropdown = widgets.Dropdown(options=['All Brands'] + list(df['Brand'].unique()), value='All Brands', description='Brand:')\n",
    "year_dropdown = widgets.Dropdown(options=list(range(2024, 2051)), value=2024, description='Year:')\n",
    "predict_button = widgets.Button(description=\"Predict\")\n",
    "\n",
    "# Output for the plots\n",
    "output = widgets.Output()\n",
    "\n",
    "def on_predict_button_clicked(b):\n",
    "    with output:\n",
    "        clear_output(wait=True)\n",
    "        selected_brand = brand_dropdown.value\n",
    "        selected_year = year_dropdown.value\n",
    "        update_visualizations(selected_brand, selected_year)\n",
    "\n",
    "predict_button.on_click(on_predict_button_clicked)\n",
    "\n",
    "# Display UI components\n",
    "display(brand_dropdown, year_dropdown, predict_button, output)\n",
    "\n",
    "# Run initial visualization\n",
    "on_predict_button_clicked(None)\n"
   ]
  }
 ],
 "metadata": {
  "kernelspec": {
   "display_name": "Python 3 (ipykernel)",
   "language": "python",
   "name": "python3"
  },
  "language_info": {
   "codemirror_mode": {
    "name": "ipython",
    "version": 3
   },
   "file_extension": ".py",
   "mimetype": "text/x-python",
   "name": "python",
   "nbconvert_exporter": "python",
   "pygments_lexer": "ipython3",
   "version": "3.9.12"
  }
 },
 "nbformat": 4,
 "nbformat_minor": 5
}
