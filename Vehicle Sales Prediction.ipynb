{
 "cells": [
  {
   "cell_type": "markdown",
   "id": "c7cb714c",
   "metadata": {},
   "source": [
    "#  Vehicle Sales Prediction Project:\n",
    "\n",
    "### The purpose of this app is to use an exisiting data set and predict future Vehicle Sales based off past data. This project is using a Linear Regression model.\n",
    "\n",
    "<br>\n",
    "\n",
    "#### The ML Model used is Linear Regression Supervised Learning Model"
   ]
  },
  {
   "cell_type": "markdown",
   "id": "54b95fe5",
   "metadata": {},
   "source": [
    "### <font color =\"violet\"> This is the First Code Block to Run </font>"
   ]
  },
  {
   "cell_type": "code",
   "execution_count": 1,
   "id": "61e7998c",
   "metadata": {},
   "outputs": [
    {
     "name": "stdout",
     "output_type": "stream",
     "text": [
      "\n",
      "\n",
      "Accuracy Metrics for SVM\n",
      "Mean Squared Error (MSE): 701308366.04\n",
      "R-squared: 11.03%\n"
     ]
    }
   ],
   "source": [
    "import pandas as pd\n",
    "import matplotlib.pyplot as plt\n",
    "from sklearn.model_selection import train_test_split\n",
    "from sklearn.pipeline import make_pipeline\n",
    "from sklearn.compose import ColumnTransformer\n",
    "from sklearn.preprocessing import OneHotEncoder, LabelEncoder\n",
    "from sklearn.svm import SVR\n",
    "from sklearn.linear_model import LinearRegression\n",
    "from sklearn.metrics import mean_squared_error, r2_score\n",
    "import numpy as np\n",
    "\n",
    "# Kaggle Data in Github and loaded here\n",
    "url = \"https://raw.githubusercontent.com/GabrielCMM74/C964-CS/main/datasets/cars-data-sales%20copy%204.csv\"\n",
    "df = pd.read_csv(url, encoding='utf-16')\n",
    "\n",
    "# Remove rows with missing 'Price' column values\n",
    "df.dropna(subset=['Price'], inplace=True)\n",
    "\n",
    "# Exclude outliers in Data\n",
    "upper_limit = df['Price'].quantile(0.99)\n",
    "df = df[df['Price'] < upper_limit]\n",
    "\n",
    "df['Brand_Name'] = df['Brand']\n",
    "\n",
    "# Label encoding for 'Brand' for the full dataset\n",
    "label_encoder = LabelEncoder()\n",
    "df['Brand'] = label_encoder.fit_transform(df['Brand'])\n",
    "\n",
    "# Sampling a subset of the data for quicker training - for demonstration, using 10% of the data\n",
    "df_sample = df.sample(frac=0.1, random_state=42)\n",
    "\n",
    "# Preparing data for SVM\n",
    "X_svm = df_sample[['Year', 'Brand']]\n",
    "y_svm = df_sample['Price'].values\n",
    "\n",
    "column_transformer = ColumnTransformer([\n",
    "    (\"encoder\", OneHotEncoder(sparse=True, handle_unknown='ignore'), ['Brand'])\n",
    "], remainder='passthrough')\n",
    "\n",
    "svm_pipeline = make_pipeline(\n",
    "    column_transformer,\n",
    "    SVR(kernel='linear', C=1.0, epsilon=0.2, max_iter=10000)\n",
    ")\n",
    "\n",
    "# Splitting the data\n",
    "X_train, X_test, y_train, y_test = train_test_split(X_svm, y_svm, test_size=0.2, random_state=42)\n",
    "svm_pipeline.fit(X_train, y_train)\n",
    "\n",
    "# Linear Regression model for future price predictions\n",
    "X_lr = df[['Year', 'Brand']]\n",
    "y_lr = df['Price']\n",
    "\n",
    "lr_model = LinearRegression()\n",
    "lr_model.fit(X_lr, y_lr)\n",
    "\n",
    "# Function to predict future prices and demand\n",
    "def predict_future_data(start_year, end_year, brand_encoder, df):\n",
    "    future_years = np.arange(start_year, end_year + 1)\n",
    "    future_data = pd.DataFrame({'Year': np.repeat(future_years, len(brand_encoder.classes_)), 'Brand': np.tile(np.arange(len(brand_encoder.classes_)), len(future_years))})\n",
    "    \n",
    "    # Predicting prices\n",
    "    predicted_prices = lr_model.predict(future_data)\n",
    "    future_data['Predicted Price'] = predicted_prices\n",
    "\n",
    "    # Preparing demand data to more accurately represent Future Prices\n",
    "    demand_per_year_brand = df.groupby(['Year', 'Brand']).size().reset_index(name='Demand')\n",
    "    \n",
    "    # Initialize future demand predictions\n",
    "    future_data['Predicted Count'] = 0\n",
    "    \n",
    "    for brand in brand_encoder.classes_:\n",
    "        brand_index = brand_encoder.transform([brand])[0]\n",
    "        if demand_per_year_brand[demand_per_year_brand['Brand'] == brand_index].empty:\n",
    "            continue\n",
    "            \n",
    "        # Linear Regression Model for demand\n",
    "        demand_data = demand_per_year_brand[demand_per_year_brand['Brand'] == brand_index]\n",
    "        X_demand = demand_data[['Year']]\n",
    "        y_demand = demand_data['Demand']\n",
    "        demand_model = LinearRegression()\n",
    "        demand_model.fit(X_demand, y_demand)\n",
    "        \n",
    "        # Predicts future demand\n",
    "        future_demand = demand_model.predict(future_data[future_data['Brand'] == brand_index][['Year']])\n",
    "        future_data.loc[future_data['Brand'] == brand_index, 'Predicted Count'] = future_demand\n",
    "\n",
    "    future_data['Brand'] = brand_encoder.inverse_transform(future_data['Brand'])  # Convert back to brand names\n",
    "    return future_data\n",
    "\n",
    "# Predict future prices and demand\n",
    "future_data = predict_future_data(2024, 2050, label_encoder, df)\n",
    "\n",
    "# Accuracy Metrics \n",
    "predictions = svm_pipeline.predict(X_test)\n",
    "mse = mean_squared_error(y_test, predictions)\n",
    "r2 = r2_score(y_test, predictions) * 100\n",
    "\n",
    "print(\"\\n\\nAccuracy Metrics for SVM\")\n",
    "print(f\"Mean Squared Error (MSE): {mse:.2f}\")\n",
    "print(f\"R-squared: {r2:.2f}%\")\n"
   ]
  },
  {
   "cell_type": "markdown",
   "id": "4f5d8fe9",
   "metadata": {},
   "source": [
    "### <font color =\"violet\"> This is the Second Code Block to Run </font>"
   ]
  },
  {
   "cell_type": "code",
   "execution_count": 2,
   "id": "addd0d3d",
   "metadata": {
    "scrolled": false
   },
   "outputs": [
    {
     "name": "stdout",
     "output_type": "stream",
     "text": [
      "\n",
      "\n",
      "\n",
      "Numerical Data Statistics:\n"
     ]
    },
    {
     "data": {
      "text/html": [
       "<table border=\"1\" class=\"dataframe table table-striped\">\n",
       "  <thead>\n",
       "    <tr style=\"text-align: center;\">\n",
       "      <th></th>\n",
       "      <th>count</th>\n",
       "      <th>mean</th>\n",
       "      <th>std</th>\n",
       "      <th>min</th>\n",
       "      <th>25%</th>\n",
       "      <th>50%</th>\n",
       "      <th>75%</th>\n",
       "      <th>max</th>\n",
       "    </tr>\n",
       "  </thead>\n",
       "  <tbody>\n",
       "    <tr>\n",
       "      <th>Brand</th>\n",
       "      <td>62021.0</td>\n",
       "      <td>8.992</td>\n",
       "      <td>6.710</td>\n",
       "      <td>0.0</td>\n",
       "      <td>4.0</td>\n",
       "      <td>6.0</td>\n",
       "      <td>17.0</td>\n",
       "      <td>20.0</td>\n",
       "    </tr>\n",
       "    <tr>\n",
       "      <th>Year</th>\n",
       "      <td>62021.0</td>\n",
       "      <td>2021.238</td>\n",
       "      <td>8.299</td>\n",
       "      <td>215.0</td>\n",
       "      <td>2020.0</td>\n",
       "      <td>2023.0</td>\n",
       "      <td>2023.0</td>\n",
       "      <td>2024.0</td>\n",
       "    </tr>\n",
       "    <tr>\n",
       "      <th>Mileage</th>\n",
       "      <td>24974.0</td>\n",
       "      <td>53026.804</td>\n",
       "      <td>44868.608</td>\n",
       "      <td>0.0</td>\n",
       "      <td>19785.0</td>\n",
       "      <td>40943.0</td>\n",
       "      <td>74954.0</td>\n",
       "      <td>405187.0</td>\n",
       "    </tr>\n",
       "    <tr>\n",
       "      <th>Price</th>\n",
       "      <td>62021.0</td>\n",
       "      <td>52708.619</td>\n",
       "      <td>28460.633</td>\n",
       "      <td>2000.0</td>\n",
       "      <td>33170.0</td>\n",
       "      <td>47939.0</td>\n",
       "      <td>65945.0</td>\n",
       "      <td>195895.0</td>\n",
       "    </tr>\n",
       "  </tbody>\n",
       "</table>"
      ],
      "text/plain": [
       "<IPython.core.display.HTML object>"
      ]
     },
     "metadata": {},
     "output_type": "display_data"
    },
    {
     "name": "stdout",
     "output_type": "stream",
     "text": [
      "\n",
      "Categorical Data Statistics:\n"
     ]
    },
    {
     "data": {
      "text/html": [
       "<table border=\"1\" class=\"dataframe table table-striped\">\n",
       "  <thead>\n",
       "    <tr style=\"text-align: center;\">\n",
       "      <th></th>\n",
       "      <th>count</th>\n",
       "      <th>unique</th>\n",
       "      <th>top</th>\n",
       "      <th>freq</th>\n",
       "    </tr>\n",
       "  </thead>\n",
       "  <tbody>\n",
       "    <tr>\n",
       "      <th>Model</th>\n",
       "      <td>62021</td>\n",
       "      <td>319</td>\n",
       "      <td>F-150</td>\n",
       "      <td>3561</td>\n",
       "    </tr>\n",
       "    <tr>\n",
       "      <th>Status</th>\n",
       "      <td>62021</td>\n",
       "      <td>3</td>\n",
       "      <td>New</td>\n",
       "      <td>37046</td>\n",
       "    </tr>\n",
       "    <tr>\n",
       "      <th>Dealer</th>\n",
       "      <td>61831</td>\n",
       "      <td>5784</td>\n",
       "      <td>Ourisman Lexus</td>\n",
       "      <td>154</td>\n",
       "    </tr>\n",
       "    <tr>\n",
       "      <th>Brand_Name</th>\n",
       "      <td>62021</td>\n",
       "      <td>21</td>\n",
       "      <td>Ford</td>\n",
       "      <td>13787</td>\n",
       "    </tr>\n",
       "  </tbody>\n",
       "</table>"
      ],
      "text/plain": [
       "<IPython.core.display.HTML object>"
      ]
     },
     "metadata": {},
     "output_type": "display_data"
    },
    {
     "name": "stdout",
     "output_type": "stream",
     "text": [
      "\n",
      "Distribution of 'Price':\n"
     ]
    },
    {
     "data": {
      "image/png": "[encoded data removed]",
      "text/plain": [
       "<Figure size 1080x576 with 1 Axes>"
      ]
     },
     "metadata": {
      "needs_background": "light"
     },
     "output_type": "display_data"
    }
   ],
   "source": [
    "import pandas as pd\n",
    "import matplotlib.pyplot as plt\n",
    "from IPython.display import display, HTML\n",
    "\n",
    "# Setting display options for larger and clearer dataframe visuals\n",
    "pd.set_option('display.max_rows', 100) \n",
    "pd.set_option('display.max_columns', 20)\n",
    "pd.set_option('display.width', 1000) \n",
    "pd.set_option('display.colheader_justify', 'center') \n",
    "pd.set_option('display.precision', 3) \n",
    "\n",
    "# Remove rows with missing 'Price' column values\n",
    "df.dropna(subset=['Price'], inplace=True)\n",
    "\n",
    "def enhanced_describe(df):\n",
    "    # Numerical Data Description\n",
    "    numerical_stats = df.describe().transpose()\n",
    "\n",
    "    # Categorical Data Description\n",
    "    categorical_columns = df.select_dtypes(include=['object']).columns\n",
    "    categorical_stats = pd.DataFrame(index=categorical_columns, columns=['count', 'unique', 'top', 'freq'])\n",
    "    for column in categorical_columns:\n",
    "        categorical_stats.loc[column, 'count'] = df[column].count()\n",
    "        categorical_stats.loc[column, 'unique'] = df[column].nunique()\n",
    "        categorical_stats.loc[column, 'top'] = df[column].mode()[0]\n",
    "        categorical_stats.loc[column, 'freq'] = df[column].value_counts().iloc[0]\n",
    "\n",
    "    # Combine and Display Visuals\n",
    "    print(\"\\n\\n\")\n",
    "    print(\"Numerical Data Statistics:\")\n",
    "    display(HTML(numerical_stats.to_html(classes='table table-striped')))\n",
    "\n",
    "    print(\"\\nCategorical Data Statistics:\")\n",
    "    display(HTML(categorical_stats.to_html(classes='table table-striped')))\n",
    "\n",
    "    print(\"\\nDistribution of 'Price':\")\n",
    "\n",
    "    upper_limit = df['Price'].quantile(0.99)\n",
    "    filtered_prices = df[df['Price'] < upper_limit]['Price']\n",
    "\n",
    "    # Plot the histogram of prices without extreme outliers\n",
    "    plt.figure(figsize=(15, 8))\n",
    "    filtered_prices.plot(kind='hist', bins=100, title='Price Distribution Without Extreme Outliers')\n",
    "    plt.xlabel('Price')\n",
    "    plt.ylabel('Frequency')\n",
    "    plt.grid(axis='y')\n",
    "    plt.show()\n",
    "\n",
    "# Calling the Function\n",
    "enhanced_describe(df)"
   ]
  },
  {
   "cell_type": "markdown",
   "id": "81d1dd29",
   "metadata": {},
   "source": [
    "### <font color =\"violet\"> This is the Third Code Block to Run </font>"
   ]
  },
  {
   "cell_type": "code",
   "execution_count": 3,
   "id": "e5b93bb1",
   "metadata": {
    "scrolled": false
   },
   "outputs": [
    {
     "name": "stdout",
     "output_type": "stream",
     "text": [
      "\n",
      "\n",
      "\n",
      "\n",
      "Enter year and press Predict:\n"
     ]
    },
    {
     "data": {
      "application/vnd.jupyter.widget-view+json": {
       "model_id": "6c8fa3866c7648c0b09e6c812b0985ce",
       "version_major": 2,
       "version_minor": 0
      },
      "text/plain": [
       "Dropdown(description='Brand:', options=('All Brands',), value='All Brands')"
      ]
     },
     "metadata": {},
     "output_type": "display_data"
    },
    {
     "data": {
      "application/vnd.jupyter.widget-view+json": {
       "model_id": "1adc5811720847d9a660f561865e0462",
       "version_major": 2,
       "version_minor": 0
      },
      "text/plain": [
       "Dropdown(description='Year:', options=(2024, 2025, 2026, 2027, 2028, 2029, 2030, 2031, 2032, 2033, 2034, 2035,…"
      ]
     },
     "metadata": {},
     "output_type": "display_data"
    },
    {
     "data": {
      "application/vnd.jupyter.widget-view+json": {
       "model_id": "87dd4006dbb64c1a9edf90a920b909e7",
       "version_major": 2,
       "version_minor": 0
      },
      "text/plain": [
       "Button(description='Predict', style=ButtonStyle())"
      ]
     },
     "metadata": {},
     "output_type": "display_data"
    },
    {
     "data": {
      "application/vnd.jupyter.widget-view+json": {
       "model_id": "66201cff726a439e8c2fc987379a8d40",
       "version_major": 2,
       "version_minor": 0
      },
      "text/plain": [
       "Output()"
      ]
     },
     "metadata": {},
     "output_type": "display_data"
    }
   ],
   "source": [
    "import ipywidgets as widgets\n",
    "from IPython.display import display, clear_output, HTML\n",
    "import matplotlib.pyplot as plt\n",
    "import seaborn as sns\n",
    "import numpy as np\n",
    "\n",
    "\n",
    "# Test cases for Visualizations\n",
    "assert 'future_data' in globals(), \"Error: 'future_data' is not accessible in the current scope.\"\n",
    "assert isinstance(future_data, pd.DataFrame), \"Error: 'future_data' is not a pandas DataFrame as expected.\"\n",
    "\n",
    "assert 'df' in globals(), \"Error: 'df' is not accessible in the current scope.\"\n",
    "assert isinstance(df, pd.DataFrame), \"Error: 'df' is not a pandas DataFrame as expected.\"\n",
    "\n",
    "assert 'label_encoder' in globals(), \"Error: 'label_encoder' is not accessible in the current scope.\"\n",
    "assert isinstance(label_encoder, LabelEncoder), \"Error: 'label_encoder' is not an instance of sklearn's LabelEncoder as expected.\"\n",
    "\n",
    "# If the script reaches this point without raising an assertion error, \n",
    "# it means all tests passed, and you can proceed with the rest of the code.\n",
    "\n",
    "\n",
    "# Function to filter data based on user selection below\n",
    "def filter_data(brand, year):\n",
    "    if year > 2024:\n",
    "        if brand != 'All Brands':\n",
    "            filtered = future_data[(future_data['Brand_Name'] == brand) & (future_data['Year'] == year)].copy()\n",
    "        else:\n",
    "            filtered = future_data[future_data['Year'] == year].copy()\n",
    "        return filtered\n",
    "    else:\n",
    "        if brand != 'All Brands':\n",
    "            return df[(df['Brand_Name'] == brand) & (df['Year'] == year)]\n",
    "        else:\n",
    "            return df[df['Year'] == year]\n",
    "\n",
    "def simulate_variance(filtered_df, historical_df):\n",
    "    \"\"\"Introduces simulated variance into future predictions based on historical data.\"\"\"\n",
    "    historical_variance = historical_df['Price'].std()\n",
    "    adjustment_factor = np.random.normal(0, historical_variance, size=len(filtered_df))\n",
    "    filtered_df['Adjusted Price'] = filtered_df['Predicted Price'] + adjustment_factor\n",
    "    return filtered_df\n",
    "\n",
    "\n",
    "\n",
    "# Function for each visualization below - Updates with User Interaction\n",
    "def plot_predicted_prices_with_bubble(filtered_df, selected_year):\n",
    "    plt.figure(figsize=(14, 7))\n",
    "    brand_col = 'Brand_Name' if 'Brand_Name' in filtered_df.columns else 'Brand'\n",
    "    \n",
    "    sns.scatterplot(data=filtered_df, x=brand_col, y='Predicted Price' if 'Predicted Price' in filtered_df.columns else 'Price',\n",
    "                    size='Predicted Count' if 'Predicted Count' in filtered_df.columns else np.repeat(20, len(filtered_df)),\n",
    "                    sizes=(20, 2000), alpha=0.5, legend='auto')\n",
    "    \n",
    "    plt.xlabel('Brand')\n",
    "    plt.ylabel('Predicted Price' if 'Predicted Price' in filtered_df.columns else 'Price')\n",
    "    plt.title(f'Price and Demand by Brand for {selected_year}')\n",
    "    plt.xticks(rotation=45)\n",
    "    plt.grid(True)\n",
    "    plt.legend(title='Number of Cars', labelspacing=1)\n",
    "    plt.show()\n",
    "\n",
    "def plot_violin(filtered_df, selected_year, historical_df):\n",
    "    plt.figure(figsize=(14, 7))\n",
    "    brand_col = 'Brand_Name' if 'Brand_Name' in filtered_df.columns else 'Brand'\n",
    "    \n",
    "    # Introduce simulated variance for future predictions\n",
    "    if 'Predicted Price' in filtered_df.columns and selected_year > 2024:\n",
    "        filtered_df = simulate_variance(filtered_df, historical_df)\n",
    "        price_col = 'Adjusted Price'\n",
    "    else:\n",
    "        price_col = 'Price'\n",
    "    \n",
    "    sns.violinplot(x=brand_col, y=price_col, data=filtered_df)\n",
    "    plt.title(f'Price Distribution by Brand for {selected_year}')\n",
    "    plt.xlabel('Brand')\n",
    "    plt.ylabel(price_col)\n",
    "    plt.xticks(rotation=45)\n",
    "    plt.grid(True)\n",
    "    plt.show()\n",
    "\n",
    "def plot_aggregate_prices(filtered_df, selected_year, historical_df):\n",
    "    plt.rcParams[\"figure.figsize\"] = (14,7)\n",
    "    brand_col = 'Brand_Name' if 'Brand_Name' in filtered_df.columns else 'Brand'\n",
    "    \n",
    "    if 'Predicted Price' in filtered_df.columns and selected_year > 2024:\n",
    "        filtered_df = simulate_variance(filtered_df, historical_df)\n",
    "        price_col = 'Adjusted Price'\n",
    "        agg_price = filtered_df.groupby(brand_col)[price_col].agg(['median'])\n",
    "    else:\n",
    "        price_col = 'Price'\n",
    "        agg_price = filtered_df.groupby(brand_col)[price_col].agg(['mean', 'median', 'min', 'max'])\n",
    "    \n",
    "    aggregate_prices = agg_price\n",
    "    aggregate_prices.plot(kind='bar')\n",
    "    plt.title(f'Aggregate Price Statistics for {selected_year}')\n",
    "    plt.ylabel(price_col)\n",
    "    plt.xticks(rotation=45)\n",
    "    plt.grid(axis='y')\n",
    "    plt.legend(title='Statistic')\n",
    "    plt.show()\n",
    "\n",
    "    \n",
    "# Update the function calls in the UI from User Selection\n",
    "def update_visualizations(selected_brand, selected_year, historical_df=df):\n",
    "    filtered_df = filter_data(selected_brand, selected_year)\n",
    "    plot_predicted_prices_with_bubble(filtered_df, selected_year)\n",
    "    plot_violin(filtered_df, selected_year, historical_df)\n",
    "    plot_aggregate_prices(filtered_df, selected_year, historical_df)\n",
    "\n",
    "\n",
    "# UI Components and Display setup \n",
    "brand_options = ['All Brands']\n",
    "brand_dropdown = widgets.Dropdown(options=brand_options, value='All Brands', description='Brand:')\n",
    "year_dropdown = widgets.Dropdown(options=np.arange(2024, 2051), value=2024, description='Year:')\n",
    "predict_button = widgets.Button(description=\"Predict\")\n",
    "\n",
    "\n",
    "# Output for the plots\n",
    "print(\"\\n\\n\")\n",
    "print(\"\\nEnter year and press Predict:\")\n",
    "output = widgets.Output()\n",
    "\n",
    "# Listens for User Click\n",
    "def on_predict_button_clicked(b):\n",
    "    with output:\n",
    "        clear_output(wait=True)\n",
    "        selected_brand = brand_dropdown.value\n",
    "        selected_year = year_dropdown.value\n",
    "        update_visualizations(selected_brand, selected_year)\n",
    "\n",
    "predict_button.on_click(on_predict_button_clicked)\n",
    "\n",
    "display(brand_dropdown, year_dropdown, predict_button, output)\n",
    "on_predict_button_clicked(None)"
   ]
  },
  {
   "cell_type": "markdown",
   "id": "5de63bf7",
   "metadata": {},
   "source": [
    "#### No further Data Security provisions required beyond coding best practices\n",
    "\n",
    "\n",
    "### <font color =\"blue\"> Thank you! by Gabriel Coello </font>"
   ]
  }
 ],
 "metadata": {
  "kernelspec": {
   "display_name": "Python 3 (ipykernel)",
   "language": "python",
   "name": "python3"
  },
  "language_info": {
   "codemirror_mode": {
    "name": "ipython",
    "version": 3
   },
   "file_extension": ".py",
   "mimetype": "text/x-python",
   "name": "python",
   "nbconvert_exporter": "python",
   "pygments_lexer": "ipython3",
   "version": "3.9.12"
  }
 },
 "nbformat": 4,
 "nbformat_minor": 5
}
